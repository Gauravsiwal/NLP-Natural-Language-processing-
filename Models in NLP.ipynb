{
 "cells": [
  {
   "cell_type": "markdown",
   "id": "fe82d2fd",
   "metadata": {},
   "source": [
    "# Naive Bayes Classifer"
   ]
  },
  {
   "cell_type": "code",
   "execution_count": 1,
   "id": "5fb39ee1",
   "metadata": {},
   "outputs": [],
   "source": [
    "# Classification in sentiments\n",
    "\n",
    "train_data = [('This movie is awsome','pos'),\n",
    "             ('The food at this restaurant is not tasty','neg'),\n",
    "             ('He is a wise man','pos'),\n",
    "             ('I love this song','pos'),\n",
    "            ('These flowers are not fres','neg'),\n",
    "              ('I dont like this person','neg'),\n",
    "              ('I dont want to work in this company','neg'),\n",
    "              ('I like working here','pos'),\n",
    "              ('I love to walk with you','pos'),\n",
    "              ('I dont like pets','neg'),\n",
    "              ('This movie is boring','neg'),\n",
    "              ('I love to walk to office','pos')]"
   ]
  },
  {
   "cell_type": "code",
   "execution_count": 2,
   "id": "a64d0d7e",
   "metadata": {},
   "outputs": [],
   "source": [
    "from textblob.classifiers import NaiveBayesClassifier as nb"
   ]
  },
  {
   "cell_type": "code",
   "execution_count": 3,
   "id": "0c835070",
   "metadata": {},
   "outputs": [],
   "source": [
    "model = nb(train_data)"
   ]
  },
  {
   "cell_type": "code",
   "execution_count": 4,
   "id": "20fe3003",
   "metadata": {},
   "outputs": [
    {
     "data": {
      "text/plain": [
       "'pos'"
      ]
     },
     "execution_count": 4,
     "metadata": {},
     "output_type": "execute_result"
    }
   ],
   "source": [
    "model.classify('I love rain')"
   ]
  },
  {
   "cell_type": "code",
   "execution_count": 9,
   "id": "54ba13c6",
   "metadata": {},
   "outputs": [
    {
     "data": {
      "text/plain": [
       "'pos'"
      ]
     },
     "execution_count": 9,
     "metadata": {},
     "output_type": "execute_result"
    }
   ],
   "source": [
    "model.classify('This is a bad place to stay')"
   ]
  },
  {
   "cell_type": "code",
   "execution_count": 10,
   "id": "a466798c",
   "metadata": {},
   "outputs": [
    {
     "data": {
      "text/plain": [
       "'neg'"
      ]
     },
     "execution_count": 10,
     "metadata": {},
     "output_type": "execute_result"
    }
   ],
   "source": [
    "model.classify('I dont want to leave early')"
   ]
  },
  {
   "cell_type": "code",
   "execution_count": 11,
   "id": "4aee58d5",
   "metadata": {},
   "outputs": [],
   "source": [
    "test_data = [('I love rain','pos'),\n",
    "            ('This is a bad place to stay','neg'),\n",
    "            ('I dont want to leave early','neg')]"
   ]
  },
  {
   "cell_type": "code",
   "execution_count": 12,
   "id": "2d20903a",
   "metadata": {},
   "outputs": [
    {
     "data": {
      "text/plain": [
       "0.6666666666666666"
      ]
     },
     "execution_count": 12,
     "metadata": {},
     "output_type": "execute_result"
    }
   ],
   "source": [
    "model.accuracy(test_data)"
   ]
  },
  {
   "cell_type": "markdown",
   "id": "02748451",
   "metadata": {},
   "source": [
    "## SVM in NLP"
   ]
  },
  {
   "cell_type": "code",
   "execution_count": 13,
   "id": "46e4b34e",
   "metadata": {},
   "outputs": [
    {
     "data": {
      "text/plain": [
       "[('This movie is awsome', 'pos'),\n",
       " ('The food at this restaurant is not tasty', 'neg'),\n",
       " ('He is a wise man', 'pos'),\n",
       " ('I love this song', 'pos'),\n",
       " ('These flowers are not fres', 'neg'),\n",
       " ('I dont like this person', 'neg'),\n",
       " ('I dont want to work in this company', 'neg'),\n",
       " ('I like working here', 'pos'),\n",
       " ('I love to walk with you', 'pos'),\n",
       " ('I dont like pets', 'neg'),\n",
       " ('This movie is boring', 'neg'),\n",
       " ('I love to walk to office', 'pos')]"
      ]
     },
     "execution_count": 13,
     "metadata": {},
     "output_type": "execute_result"
    }
   ],
   "source": [
    "train_data"
   ]
  },
  {
   "cell_type": "code",
   "execution_count": 14,
   "id": "c328c212",
   "metadata": {},
   "outputs": [],
   "source": [
    "train_value = []\n",
    "train_label = []\n",
    "for i in train_data:\n",
    "    train_value.append(i[0])\n",
    "    train_label.append(i[1])"
   ]
  },
  {
   "cell_type": "code",
   "execution_count": 15,
   "id": "8346e42c",
   "metadata": {},
   "outputs": [
    {
     "data": {
      "text/plain": [
       "['pos',\n",
       " 'neg',\n",
       " 'pos',\n",
       " 'pos',\n",
       " 'neg',\n",
       " 'neg',\n",
       " 'neg',\n",
       " 'pos',\n",
       " 'pos',\n",
       " 'neg',\n",
       " 'neg',\n",
       " 'pos']"
      ]
     },
     "execution_count": 15,
     "metadata": {},
     "output_type": "execute_result"
    }
   ],
   "source": [
    "train_label"
   ]
  },
  {
   "cell_type": "code",
   "execution_count": 16,
   "id": "e53718b6",
   "metadata": {},
   "outputs": [
    {
     "data": {
      "text/plain": [
       "['This movie is awsome',\n",
       " 'The food at this restaurant is not tasty',\n",
       " 'He is a wise man',\n",
       " 'I love this song',\n",
       " 'These flowers are not fres',\n",
       " 'I dont like this person',\n",
       " 'I dont want to work in this company',\n",
       " 'I like working here',\n",
       " 'I love to walk with you',\n",
       " 'I dont like pets',\n",
       " 'This movie is boring',\n",
       " 'I love to walk to office']"
      ]
     },
     "execution_count": 16,
     "metadata": {},
     "output_type": "execute_result"
    }
   ],
   "source": [
    "train_value"
   ]
  },
  {
   "cell_type": "code",
   "execution_count": 47,
   "id": "2b9ad4d5",
   "metadata": {},
   "outputs": [],
   "source": [
    "test_data = [('I love rain','pos'),\n",
    "            ('This is a bad place to stay','neg'),\n",
    "            ('I dont want to leave early','neg')]\n",
    "test_value = []\n",
    "test_label = []\n",
    "for i in test_data:\n",
    "    test_value.append(i[0])\n",
    "    test_label.append(i[1])"
   ]
  },
  {
   "cell_type": "code",
   "execution_count": 17,
   "id": "e97a24e8",
   "metadata": {},
   "outputs": [],
   "source": [
    "from sklearn.feature_extraction.text import TfidfVectorizer"
   ]
  },
  {
   "cell_type": "code",
   "execution_count": 18,
   "id": "5f055ddb",
   "metadata": {},
   "outputs": [],
   "source": [
    "vect = TfidfVectorizer()"
   ]
  },
  {
   "cell_type": "code",
   "execution_count": 48,
   "id": "92583f5f",
   "metadata": {},
   "outputs": [],
   "source": [
    "train_vect = vect.fit_transform(train_value)\n",
    "test_vect = vect.transform(test_value)"
   ]
  },
  {
   "cell_type": "code",
   "execution_count": 49,
   "id": "8a29c735",
   "metadata": {},
   "outputs": [
    {
     "name": "stdout",
     "output_type": "stream",
     "text": [
      "  (0, 2)\t0.6300572889160387\n",
      "  (0, 12)\t0.42902824205933876\n",
      "  (0, 16)\t0.5411005185578859\n",
      "  (0, 26)\t0.35520812070620217\n",
      "  (0, 23)\t0.3916582137469294\n",
      "  (0, 17)\t0.3363606235244428\n",
      "  (0, 21)\t0.3916582137469294\n",
      "  (0, 1)\t0.3916582137469294\n",
      "  (0, 7)\t0.3916582137469294\n",
      "  (0, 24)\t0.3916582137469294\n",
      "  (0, 12)\t0.26669389893263784\n",
      "  (0, 26)\t0.22080560055664072\n",
      "  (0, 15)\t0.5373182185370181\n",
      "  (0, 30)\t0.5373182185370181\n",
      "  (0, 9)\t0.5373182185370181\n",
      "  (0, 12)\t0.36587893637734287\n",
      "  (0, 22)\t0.7267457602644262\n",
      "  (0, 14)\t0.5513361241958752\n",
      "  (0, 26)\t0.40971829113959735\n",
      "  (0, 8)\t0.4594336046639039\n",
      "  (0, 0)\t0.4594336046639039\n",
      "  (0, 6)\t0.4594336046639039\n",
      "  (0, 25)\t0.4594336046639039\n",
      "  (0, 17)\t0.3945669165327051\n",
      "  (0, 19)\t0.6364267911166434\n",
      "  (0, 13)\t0.4828168247187277\n",
      "  (0, 5)\t0.4828168247187277\n",
      "  (0, 26)\t0.35879906227026725\n",
      "  (0, 4)\t0.4276122130827684\n",
      "  (0, 11)\t0.4276122130827684\n",
      "  (0, 32)\t0.4276122130827684\n",
      "  (0, 27)\t0.32440238816679684\n",
      "  (0, 29)\t0.4276122130827684\n",
      "  (0, 5)\t0.32440238816679684\n",
      "  (0, 26)\t0.24107542801618354\n",
      "  (0, 10)\t0.6231128431839633\n",
      "  (0, 33)\t0.6231128431839633\n",
      "  (0, 13)\t0.47271637301705055\n",
      "  (0, 34)\t0.5071102689522069\n",
      "  (0, 31)\t0.5071102689522069\n",
      "  (0, 28)\t0.4355121896425425\n",
      "  (0, 27)\t0.3847125439332587\n",
      "  (0, 14)\t0.3847125439332587\n",
      "  (0, 20)\t0.6818263166883162\n",
      "  (0, 13)\t0.5172585784069919\n",
      "  (0, 5)\t0.5172585784069919\n",
      "  (0, 3)\t0.6300572889160387\n",
      "  (0, 12)\t0.42902824205933876\n",
      "  (0, 16)\t0.5411005185578859\n",
      "  (0, 26)\t0.35520812070620217\n",
      "  (0, 18)\t0.4654836326571605\n",
      "  (0, 28)\t0.3997627508513159\n",
      "  (0, 27)\t0.7062660862649897\n",
      "  (0, 14)\t0.35313304313249483\n"
     ]
    }
   ],
   "source": [
    "for i in train_vect:\n",
    "    print(i)"
   ]
  },
  {
   "cell_type": "code",
   "execution_count": 50,
   "id": "30631ef5",
   "metadata": {},
   "outputs": [],
   "source": [
    "from sklearn.svm import SVC\n",
    "model = SVC(kernel='linear')"
   ]
  },
  {
   "cell_type": "code",
   "execution_count": 51,
   "id": "cb873401",
   "metadata": {},
   "outputs": [
    {
     "data": {
      "text/plain": [
       "SVC(kernel='linear')"
      ]
     },
     "execution_count": 51,
     "metadata": {},
     "output_type": "execute_result"
    }
   ],
   "source": [
    "model.fit(train_vect,train_label)"
   ]
  },
  {
   "cell_type": "code",
   "execution_count": 52,
   "id": "b858d272",
   "metadata": {},
   "outputs": [],
   "source": [
    "pred = model.predict(test_vect)"
   ]
  },
  {
   "cell_type": "code",
   "execution_count": 53,
   "id": "f640acc7",
   "metadata": {},
   "outputs": [
    {
     "data": {
      "text/plain": [
       "array(['pos', 'pos', 'neg'], dtype='<U3')"
      ]
     },
     "execution_count": 53,
     "metadata": {},
     "output_type": "execute_result"
    }
   ],
   "source": [
    "pred"
   ]
  },
  {
   "cell_type": "code",
   "execution_count": 54,
   "id": "41786f69",
   "metadata": {},
   "outputs": [
    {
     "data": {
      "text/plain": [
       "0.6666666666666666"
      ]
     },
     "execution_count": 54,
     "metadata": {},
     "output_type": "execute_result"
    }
   ],
   "source": [
    "model.score(test_vect,test_label)"
   ]
  },
  {
   "cell_type": "code",
   "execution_count": null,
   "id": "08dde604",
   "metadata": {},
   "outputs": [],
   "source": []
  },
  {
   "cell_type": "code",
   "execution_count": null,
   "id": "95678ee1",
   "metadata": {},
   "outputs": [],
   "source": []
  }
 ],
 "metadata": {
  "kernelspec": {
   "display_name": "Python 3 (ipykernel)",
   "language": "python",
   "name": "python3"
  },
  "language_info": {
   "codemirror_mode": {
    "name": "ipython",
    "version": 3
   },
   "file_extension": ".py",
   "mimetype": "text/x-python",
   "name": "python",
   "nbconvert_exporter": "python",
   "pygments_lexer": "ipython3",
   "version": "3.8.8"
  }
 },
 "nbformat": 4,
 "nbformat_minor": 5
}
