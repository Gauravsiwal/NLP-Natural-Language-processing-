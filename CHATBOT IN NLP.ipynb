{
 "cells": [
  {
   "cell_type": "code",
   "execution_count": 14,
   "id": "automatic-highway",
   "metadata": {},
   "outputs": [],
   "source": [
    "# A small text dataset for AI-Institue (FAQ's)\n",
    "\n",
    "dic = {\"hello\":\"hii welcome to AI-Institute\",\n",
    "       \"how are you\":\"I m good welcome to AI-Institute \",\n",
    "        \"what courses course\":\"we have courses in web designing,Artifical intelligence,digital marketing\",\n",
    "       \"what duration of course courses\":\"6months and 12 months\",\n",
    "       \"what fees fee\":\"kindly contact the represtatives between 9am to 6pm\",\n",
    "       \"what location and address\":\"we are loacted near Huda City Center\",\n",
    "       \"what timmings time or open \":\"10am to 6pm\",\n",
    "      \"types of batches batch\":\"weekends and weekdays courses\",\n",
    "      \"weekdays courses course are from \":\"weekdays courses are from monday to thursday\",\n",
    "      \"weekends courses course are from\":\"weekends courses are from saturday to sunday\",\n",
    "      \"when is the holidays and offs\":\"every friday is off and holidays on national days\",\n",
    "      \"what are the mode or modes of classes class\":\"classes are offline and online modes\"}"
   ]
  },
  {
   "cell_type": "code",
   "execution_count": 15,
   "id": "normal-softball",
   "metadata": {},
   "outputs": [],
   "source": [
    "import math\n",
    "from collections import Counter"
   ]
  },
  {
   "cell_type": "code",
   "execution_count": 16,
   "id": "passing-tribune",
   "metadata": {},
   "outputs": [],
   "source": [
    "def text_to_vector(text):\n",
    "    word  = text.split()\n",
    "    return Counter(word)\n"
   ]
  },
  {
   "cell_type": "code",
   "execution_count": 17,
   "id": "d059d814",
   "metadata": {},
   "outputs": [],
   "source": [
    "def cos_simi(text1,text2):\n",
    "    vect1 = text_to_vector(text1)\n",
    "    vect2 = text_to_vector(text2)\n",
    "    com = set(vect1.keys()) & set(vect2.keys())\n",
    "    nume = sum(vect1[i]*vect2[i] for i in com)\n",
    "    deno1 = sum(vect1[i]**2 for i in vect1.keys())\n",
    "    deno2 = sum(vect2[i]**2 for i in vect2.keys())\n",
    "    deno = math.sqrt(deno1)*math.sqrt(deno2)\n",
    "\n",
    "    cosine = nume/deno\n",
    "    return cosine"
   ]
  },
  {
   "cell_type": "code",
   "execution_count": 18,
   "id": "fitted-birthday",
   "metadata": {},
   "outputs": [
    {
     "name": "stdout",
     "output_type": "stream",
     "text": [
      "user : hi\n",
      "techbot :  hii welcome to AI-Institute\n",
      "user : where are you located\n",
      "techbot :  I m good welcome to AI-Institute \n",
      "user : location\n",
      "techbot :  we are loacted near Huda City Center\n",
      "user : time\n",
      "techbot :  10am to 6pm\n",
      "user : ok\n",
      "Thank you. Hope your query is resolved\n"
     ]
    }
   ],
   "source": [
    "while True:    \n",
    "    text1 = input(\"user : \")\n",
    "    if text1.lower() in ['bye','exit','thank you','ok']:\n",
    "        print('Thank you. Hope your query is resolved')\n",
    "        break\n",
    "    else:\n",
    "        cos = []\n",
    "        for i in dic.keys():\n",
    "            text2 = i\n",
    "            c = cos_simi(text1,text2)\n",
    "            cos.append(c)\n",
    "\n",
    "        maxx = max(cos)\n",
    "        ind = cos.index(maxx)\n",
    "        ans = list(dic.values())\n",
    "        print(\"techbot : \",ans[ind])"
   ]
  },
  {
   "cell_type": "code",
   "execution_count": null,
   "id": "figured-economy",
   "metadata": {},
   "outputs": [],
   "source": []
  },
  {
   "cell_type": "code",
   "execution_count": null,
   "id": "generic-gibraltar",
   "metadata": {},
   "outputs": [],
   "source": []
  },
  {
   "cell_type": "code",
   "execution_count": null,
   "id": "hydraulic-hotel",
   "metadata": {},
   "outputs": [],
   "source": []
  }
 ],
 "metadata": {
  "kernelspec": {
   "display_name": "Python 3 (ipykernel)",
   "language": "python",
   "name": "python3"
  },
  "language_info": {
   "codemirror_mode": {
    "name": "ipython",
    "version": 3
   },
   "file_extension": ".py",
   "mimetype": "text/x-python",
   "name": "python",
   "nbconvert_exporter": "python",
   "pygments_lexer": "ipython3",
   "version": "3.8.8"
  }
 },
 "nbformat": 4,
 "nbformat_minor": 5
}
